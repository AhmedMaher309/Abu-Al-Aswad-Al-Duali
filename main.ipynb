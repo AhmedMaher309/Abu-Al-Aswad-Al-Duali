{
 "cells": [
  {
   "cell_type": "code",
   "execution_count": 10,
   "metadata": {},
   "outputs": [],
   "source": [
    "import os\n",
    "from enum import Enum\n",
    "import re\n",
    "import numpy as np\n",
    "from pyarabic.araby import separate, tokenize, is_arabicrange, strip_tashkeel, strip_tatweel\n",
    "import nltk\n",
    "from nltk.tokenize import sent_tokenize\n",
    "import tensorflow as tf\n",
    "from keras_preprocessing.sequence import pad_sequences\n",
    "from keras.models import Sequential,load_model\n",
    "from keras.layers import Embedding, LSTM, Dense, SpatialDropout1D, CategoryEncoding, Bidirectional\n",
    "from gensim.models import Word2Vec"
   ]
  },
  {
   "cell_type": "markdown",
   "metadata": {},
   "source": [
    "### reading and writing files"
   ]
  },
  {
   "cell_type": "code",
   "execution_count": 11,
   "metadata": {},
   "outputs": [],
   "source": [
    "class FileReader:\n",
    "    \n",
    "    # write the data inside the file with file_name\n",
    "    def write_file(self,file_name, data):\n",
    "        if not os.path.exists(\"dataset\"):\n",
    "            os.makedirs(\"dataset\")\n",
    "        # Combine folder and file path\n",
    "        file_path = os.path.join(\"dataset\", file_name)\n",
    "        \n",
    "        # Write the cleaned data to a new text file\n",
    "        with open(file_path, 'w', encoding='utf-8') as file:\n",
    "            file.write(data)\n",
    "\n",
    "    # opne the file with file_name, extract the file data, and return it \n",
    "    def open_file(self, file_name):\n",
    "        file_path = os.path.join(\"dataset\", file_name)\n",
    "        f = open(file_path, 'r', encoding=\"utf-8\").read()\n",
    "        return f\n"
   ]
  },
  {
   "cell_type": "markdown",
   "metadata": {},
   "source": [
    "### data cleaning and processing utilities \n"
   ]
  },
  {
   "cell_type": "code",
   "execution_count": 15,
   "metadata": {},
   "outputs": [],
   "source": [
    "class ArabicDiacritics(Enum):\n",
    "    SHADDA_FATHATAN = '\\u0651\\u064b'\n",
    "    SHADDA_DAMMATAN = '\\u0651\\u064c'\n",
    "    SHADDA_KASRATAN = '\\u0651\\u064d'\n",
    "    SHADDA_FATHA = '\\u0651\\u064e'\n",
    "    SHADDA_DAMMA = '\\u0651\\u064f'\n",
    "    SHADDA_KASRA = '\\u0651\\u0650'\n",
    "    SHADDA_SUKUN = '\\u0651\\u0652'\n",
    "    SHADDA = '\\u0651'\n",
    "    FATHATAN = '\\u064b'\n",
    "    DAMMATAN = '\\u064c'\n",
    "    KASRATAN = '\\u064d'\n",
    "    FATHA = '\\u064e'\n",
    "    DAMMA = '\\u064f'\n",
    "    KASRA = '\\u0650'\n",
    "    SUKUN = '\\u0652'\n",
    "\n",
    "class ArabicCharacters(Enum):\n",
    "    HAMZA = u'\\u0621'\n",
    "    ALEF_MADDA = u'\\u0622'\n",
    "    ALEF_HAMZA_ABOVE = u'\\u0623'\n",
    "    WAW_HAMZA = u'\\u0624'\n",
    "    ALEF_HAMZA_BELOW = u'\\u0625'\n",
    "    YEH_HAMZA = u'\\u0626'\n",
    "    ALEF = u'\\u0627'\n",
    "    BEH = u'\\u0628'\n",
    "    TEH_MARBUTA = u'\\u0629'\n",
    "    TEH = u'\\u062a'\n",
    "    THEH = u'\\u062b'\n",
    "    JEEM = u'\\u062c'\n",
    "    HAH = u'\\u062d'\n",
    "    KHAH = u'\\u062e'\n",
    "    DAL = u'\\u062f'\n",
    "    THAL = u'\\u0630'\n",
    "    REH = u'\\u0631'\n",
    "    ZAIN = u'\\u0632'\n",
    "    SEEN = u'\\u0633'\n",
    "    SHEEN = u'\\u0634'\n",
    "    SAD = u'\\u0635'\n",
    "    DAD = u'\\u0636'\n",
    "    TAH = u'\\u0637'\n",
    "    ZAH = u'\\u0638'\n",
    "    AIN = u'\\u0639'\n",
    "    GHAIN = u'\\u063a'\n",
    "    TATWEEL = u'\\u0640'\n",
    "    FEH = u'\\u0641'\n",
    "    QAF = u'\\u0642'\n",
    "    KAF = u'\\u0643'\n",
    "    LAM = u'\\u0644'\n",
    "    MEEM = u'\\u0645'\n",
    "    NOON = u'\\u0646'\n",
    "    HEH = u'\\u0647'\n",
    "    WAW = u'\\u0648'\n",
    "    ALEF_MAKSURA = u'\\u0649'\n",
    "    YEH = u'\\u064a'\n",
    "\n",
    "class Preprocessor:\n",
    "\n",
    "    def __init__(self):\n",
    "        f = FileReader()\n",
    "\n",
    "\n",
    "    # clean the arabic text from any non arabic characters and store the clean data inside an new output file\n",
    "    def clean_data(self, data,output_file):\n",
    "        tokens = tokenize(data, conditions=is_arabicrange)\n",
    "        cleaned_data = u\" \".join(tokens)\n",
    "        f.write_file(output_file, cleaned_data)\n",
    "\n",
    "\n",
    "    # remove diacritics from arabic text and store the new data inside a new file\n",
    "    def remove_diacritics(self, data, output_file):\n",
    "        data_with_diactrics = strip_tashkeel(data)\n",
    "        f.write_file(output_file, data_with_diactrics)\n",
    "\n",
    "\n",
    "    # remove all punctuation characters and store the result inside the output file\n",
    "    def remove_tarkeem(self, data, output_file):\n",
    "        arabic_punctuation = ['،', '٪', '؛', '؟', 'ـ']\n",
    "        english_punctuation = [',', '.', '%', ':', ';', '?', '!', '-', '_', \"'\", '\"', '(', ')', '[', ']', '{', '}']\n",
    "        data_without_tarkeem = \"\"\n",
    "        for character in data:\n",
    "            if character not in arabic_punctuation and character not in english_punctuation:\n",
    "                data_without_tarkeem += character\n",
    "        f.write_file(output_file, data_without_tarkeem)\n",
    "\n",
    "    def separate_diacritics(self, arabic_text):\n",
    "        diacritics_list = []\n",
    "        # internal function to replace diacritics with empty strings for the letters\n",
    "        def diacritics_replacement(match):\n",
    "            diacritic = match.group(2)\n",
    "            diacritics_list.append(diacritic)\n",
    "            return match.group(1) \n",
    "        \n",
    "        # Define a pattern to match Arabic diacritics and shadda using the enum values\n",
    "        diacritics_pattern = re.compile(\"([\" + \"\".join([re.escape(character.value) for character in ArabicCharacters]) + \" ])\" + \"([\" + \"\".join([re.escape(diacritic.value) for diacritic in ArabicDiacritics]) + \"]*)|(.)\")\n",
    "\n",
    "        # Remove diacritics and shadda using the pattern and store them in the list\n",
    "        result_text = re.sub(diacritics_pattern, diacritics_replacement, arabic_text)\n",
    "\n",
    "        return result_text, diacritics_list\n",
    "    "
   ]
  },
  {
   "cell_type": "markdown",
   "metadata": {},
   "source": [
    "### Model structure "
   ]
  },
  {
   "cell_type": "code",
   "execution_count": 17,
   "metadata": {},
   "outputs": [],
   "source": [
    "def create_model(input_dim, output_dim):\n",
    "  \n",
    "    SelectedLSTM = LSTM\n",
    "    \n",
    "    model = Sequential()\n",
    "\n",
    "    model.add(CategoryEncoding(num_tokens=36, output_mode=\"one_hot\"))\n",
    "\n",
    "    model.add(Bidirectional(LSTM(units=64, activation='sigmoid', return_sequences=True)))\n",
    "\n",
    "    model.add(Bidirectional(LSTM(units=128, activation='sigmoid', return_sequences=True)))\n",
    "\n",
    "    model.add(Bidirectional(LSTM(units=256, activation='sigmoid', return_sequences=True)))\n",
    "\n",
    "    model.add(Dense(units=64, activation='relu'))\n",
    "\n",
    "    model.add(Dense(units=15, activation='softmax'))\n",
    "\n",
    "    model.compile(optimizer='adam', loss='categorical_crossentropy', metrics=['accuracy'])\n",
    "\n",
    "    return model\n"
   ]
  },
  {
   "cell_type": "markdown",
   "metadata": {},
   "source": [
    "### Model Training"
   ]
  },
  {
   "cell_type": "code",
   "execution_count": null,
   "metadata": {},
   "outputs": [],
   "source": [
    "# model = create_model()\n",
    "# model.summary()"
   ]
  }
 ],
 "metadata": {
  "kernelspec": {
   "display_name": "image",
   "language": "python",
   "name": "python3"
  },
  "language_info": {
   "codemirror_mode": {
    "name": "ipython",
    "version": 3
   },
   "file_extension": ".py",
   "mimetype": "text/x-python",
   "name": "python",
   "nbconvert_exporter": "python",
   "pygments_lexer": "ipython3",
   "version": "3.11.5"
  }
 },
 "nbformat": 4,
 "nbformat_minor": 2
}
