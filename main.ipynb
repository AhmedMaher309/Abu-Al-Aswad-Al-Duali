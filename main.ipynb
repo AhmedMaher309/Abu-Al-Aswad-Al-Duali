{
 "cells": [
  {
   "cell_type": "code",
   "execution_count": 1,
   "metadata": {},
   "outputs": [
    {
     "name": "stderr",
     "output_type": "stream",
     "text": [
      "2023-12-31 11:50:59.636201: E external/local_xla/xla/stream_executor/cuda/cuda_dnn.cc:9261] Unable to register cuDNN factory: Attempting to register factory for plugin cuDNN when one has already been registered\n",
      "2023-12-31 11:50:59.636264: E external/local_xla/xla/stream_executor/cuda/cuda_fft.cc:607] Unable to register cuFFT factory: Attempting to register factory for plugin cuFFT when one has already been registered\n",
      "2023-12-31 11:50:59.637224: E external/local_xla/xla/stream_executor/cuda/cuda_blas.cc:1515] Unable to register cuBLAS factory: Attempting to register factory for plugin cuBLAS when one has already been registered\n",
      "2023-12-31 11:50:59.643515: I tensorflow/core/platform/cpu_feature_guard.cc:182] This TensorFlow binary is optimized to use available CPU instructions in performance-critical operations.\n",
      "To enable the following instructions: AVX2 FMA, in other operations, rebuild TensorFlow with the appropriate compiler flags.\n",
      "2023-12-31 11:51:00.678279: W tensorflow/compiler/tf2tensorrt/utils/py_utils.cc:38] TF-TRT Warning: Could not find TensorRT\n"
     ]
    }
   ],
   "source": [
    "import os\n",
    "from enum import Enum\n",
    "import re\n",
    "import numpy as np\n",
    "from pyarabic.araby import separate, tokenize, is_arabicrange, strip_tashkeel, strip_tatweel\n",
    "import nltk\n",
    "from nltk.tokenize import sent_tokenize\n",
    "import tensorflow as tf\n",
    "from keras_preprocessing.sequence import pad_sequences\n",
    "from keras.models import Sequential,load_model\n",
    "from keras.layers import Embedding, LSTM, Dense, SpatialDropout1D\n",
    "from gensim.models import Word2Vec\n",
    "\n",
    "from chars_enums import *\n",
    "from file_reader import FileReader\n",
    "from preprocessor import Preprocessor"
   ]
  },
  {
   "cell_type": "code",
   "execution_count": 2,
   "metadata": {},
   "outputs": [
    {
     "name": "stdout",
     "output_type": "stream",
     "text": [
      "الذمي أن يحتسب على المسلم\n",
      "['', '', 'ِّ', 'ِّ', 'ِّ', '', 'َ', 'ْ', '', 'َ', 'ْ', 'َ', 'ِ', 'َ', '', 'َ', 'َ', '', '', '', 'ْ', 'ُ', 'ْ', 'ِ', '']\n",
      "Extracted Diacritic: No Diacritic\n",
      "Extracted Diacritic: No Diacritic\n",
      "Extracted Diacritic: ARABIC_SHADDA_KASRA\n",
      "Extracted Diacritic: ARABIC_SHADDA_KASRA\n",
      "Extracted Diacritic: ARABIC_SHADDA_KASRA\n",
      "Extracted Diacritic: No Diacritic\n",
      "Extracted Diacritic: ARABIC_FATHA\n",
      "Extracted Diacritic: ARABIC_SUKUN\n",
      "Extracted Diacritic: No Diacritic\n",
      "Extracted Diacritic: ARABIC_FATHA\n",
      "Extracted Diacritic: ARABIC_SUKUN\n",
      "Extracted Diacritic: ARABIC_FATHA\n",
      "Extracted Diacritic: ARABIC_KASRA\n",
      "Extracted Diacritic: ARABIC_FATHA\n",
      "Extracted Diacritic: No Diacritic\n",
      "Extracted Diacritic: ARABIC_FATHA\n",
      "Extracted Diacritic: ARABIC_FATHA\n",
      "Extracted Diacritic: No Diacritic\n",
      "Extracted Diacritic: No Diacritic\n",
      "Extracted Diacritic: No Diacritic\n",
      "Extracted Diacritic: ARABIC_SUKUN\n",
      "Extracted Diacritic: ARABIC_DAMMA\n",
      "Extracted Diacritic: ARABIC_SUKUN\n",
      "Extracted Diacritic: ARABIC_KASRA\n",
      "Extracted Diacritic: No Diacritic\n"
     ]
    }
   ],
   "source": [
    "P1 = Preprocessor()\n",
    "arabic_text = \"الذِّمِّيِّ أَنْ يَحْتَسِبَ عَلَى الْمُسْلِم\"\n",
    "result, diacritics = P1.separate_diacritics(arabic_text)\n",
    "print(result)\n",
    "print(diacritics)\n",
    "\n",
    "for diacritic_value in diacritics:\n",
    "    if diacritic_value in [diacritic.value.decode(\"utf-8\") for diacritic in ArabicDiacritics]:\n",
    "        for diacritic in ArabicDiacritics:\n",
    "            if diacritic.value.decode(\"utf-8\") == diacritic_value:\n",
    "                print(f\"Extracted Diacritic: {diacritic.name}\")\n",
    "    else:\n",
    "        print(f\"Extracted Diacritic: No Diacritic\")"
   ]
  },
  {
   "cell_type": "markdown",
   "metadata": {},
   "source": [
    "### Model Training"
   ]
  }
 ],
 "metadata": {
  "kernelspec": {
   "display_name": "image",
   "language": "python",
   "name": "python3"
  },
  "language_info": {
   "codemirror_mode": {
    "name": "ipython",
    "version": 3
   },
   "file_extension": ".py",
   "mimetype": "text/x-python",
   "name": "python",
   "nbconvert_exporter": "python",
   "pygments_lexer": "ipython3",
   "version": "3.11.5"
  }
 },
 "nbformat": 4,
 "nbformat_minor": 2
}
