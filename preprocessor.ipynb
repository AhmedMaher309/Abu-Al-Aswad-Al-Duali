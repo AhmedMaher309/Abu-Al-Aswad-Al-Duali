{
 "cells": [
  {
   "cell_type": "code",
   "execution_count": 50,
   "metadata": {},
   "outputs": [],
   "source": [
    "import os\n",
    "from enum import Enum\n",
    "import re\n",
    "import numpy as np\n",
    "from pyarabic.araby import separate, tokenize, is_arabicrange, strip_tashkeel\n",
    "import nltk\n",
    "from nltk.tokenize import sent_tokenize\n",
    "import tensorflow as tf\n",
    "from keras_preprocessing.sequence import pad_sequences\n",
    "from keras.models import Sequential,load_model\n",
    "from keras.layers import Embedding, LSTM, Dense, SpatialDropout1D\n",
    "from gensim.models import Word2Vec\n"
   ]
  },
  {
   "cell_type": "markdown",
   "metadata": {},
   "source": [
    "### reading and writing files"
   ]
  },
  {
   "cell_type": "code",
   "execution_count": null,
   "metadata": {},
   "outputs": [],
   "source": [
    "class FileReader:\n",
    "    \n",
    "    # write the data inside the file with file_name\n",
    "    def write_file(self,file_name, data):\n",
    "        if not os.path.exists(\"dataset\"):\n",
    "            os.makedirs(\"dataset\")\n",
    "        # Combine folder and file path\n",
    "        file_path = os.path.join(\"dataset\", file_name)\n",
    "        \n",
    "        # Write the cleaned data to a new text file\n",
    "        with open(file_path, 'w', encoding='utf-8') as file:\n",
    "            file.write(data)\n",
    "\n",
    "    # opne the file with file_name, extract the file data, and return it \n",
    "    def open_file(self, file_name):\n",
    "        file_path = os.path.join(\"dataset\", file_name)\n",
    "        f = open(file_path, 'r', encoding=\"utf-8\").read()\n",
    "        return f\n"
   ]
  },
  {
   "cell_type": "markdown",
   "metadata": {},
   "source": [
    "### data cleaning and processing utilities \n"
   ]
  },
  {
   "cell_type": "code",
   "execution_count": 51,
   "metadata": {},
   "outputs": [
    {
     "name": "stdout",
     "output_type": "stream",
     "text": [
      "الذمي أن يحتسب على المسلم\n",
      "['ّ', 'ِ', 'ّ', 'ِ', 'ّ', 'ِ', 'َ', 'ْ', 'َ', 'ْ', 'َ', 'ِ', 'َ', 'َ', 'َ', 'ْ', 'ُ', 'ْ', 'ِ']\n",
      "Extracted Diacritic: SHADDA\n",
      "Extracted Diacritic: KASRA\n",
      "Extracted Diacritic: SHADDA\n",
      "Extracted Diacritic: KASRA\n",
      "Extracted Diacritic: SHADDA\n",
      "Extracted Diacritic: KASRA\n",
      "Extracted Diacritic: FATHA\n",
      "Extracted Diacritic: SUKUN\n",
      "Extracted Diacritic: FATHA\n",
      "Extracted Diacritic: SUKUN\n",
      "Extracted Diacritic: FATHA\n",
      "Extracted Diacritic: KASRA\n",
      "Extracted Diacritic: FATHA\n",
      "Extracted Diacritic: FATHA\n",
      "Extracted Diacritic: FATHA\n",
      "Extracted Diacritic: SUKUN\n",
      "Extracted Diacritic: DAMMA\n",
      "Extracted Diacritic: SUKUN\n",
      "Extracted Diacritic: KASRA\n"
     ]
    }
   ],
   "source": [
    "class ArabicDiacritics(Enum):\n",
    "    FATHATAN = '\\u064b'\n",
    "    DAMMATAN = '\\u064c'\n",
    "    KASRATAN = '\\u064d'\n",
    "    FATHA = '\\u064e'\n",
    "    DAMMA = '\\u064f'\n",
    "    KASRA = '\\u0650'\n",
    "    SHADDA = '\\u0651'\n",
    "    SUKUN = '\\u0652'\n",
    "\n",
    "class Preprocessor:\n",
    "\n",
    "    def __init__(self):\n",
    "        f = FileReader()\n",
    "\n",
    "\n",
    "    # clean the arabic text from any non arabic characters and store the clean data inside an new output file\n",
    "    def clean_data(self, data,output_file):\n",
    "        tokens = tokenize(data, conditions=is_arabicrange)\n",
    "        cleaned_data = u\" \".join(tokens)\n",
    "        f.write_file(output_file, cleaned_data)\n",
    "\n",
    "\n",
    "    # remove diacritics from arabic text and store the new data inside a new file\n",
    "    def remove_diacritics(self, data, output_file):\n",
    "        data_with_diactrics = strip_tashkeel(data)\n",
    "        f.write_file(output_file, data_with_diactrics)\n",
    "\n",
    "\n",
    "    # remove all punctuation characters and store the result inside the output file\n",
    "    def remove_tarkeem(self, data, output_file):\n",
    "        arabic_punctuation = ['،', '٪', '؛', '؟', 'ـ']\n",
    "        english_punctuation = [',', '.', '%', ':', ';', '?', '!', '-', '_', \"'\", '\"', '(', ')', '[', ']', '{', '}']\n",
    "        data_without_tarkeem = \"\"\n",
    "        for character in data:\n",
    "            if character not in arabic_punctuation and character not in english_punctuation:\n",
    "                data_without_tarkeem += character\n",
    "        f.write_file(output_file, data_without_tarkeem)\n",
    "\n",
    "\n",
    "    def separate_diacritics(self, arabic_text):\n",
    "        diacritics_list = []\n",
    "        # internal function to replace diacritics with empty strings for the letters\n",
    "        def diacritics_replacement(match):\n",
    "            diacritic = match.group(0)\n",
    "            diacritics_list.append(diacritic)\n",
    "            return ''  \n",
    "        \n",
    "        # Define a pattern to match Arabic diacritics and shadda using the enum values\n",
    "        diacritics_pattern = re.compile(\"|\".join([re.escape(diacritic.value) for diacritic in ArabicDiacritics]))\n",
    "\n",
    "        # Remove diacritics and shadda using the pattern and store them in the list\n",
    "        result_text = diacritics_pattern.sub(diacritics_replacement, arabic_text)\n",
    "\n",
    "        return result_text, diacritics_list\n",
    "    \n",
    "\n",
    "P1 = Preprocessor()\n",
    "arabic_text = \"الذِّمِّيِّ أَنْ يَحْتَسِبَ عَلَى الْمُسْلِم\"\n",
    "result, diacritics = P1.separate_diacritics(arabic_text)\n",
    "print(result)\n",
    "print(diacritics)\n",
    "\n",
    "for diacritic_value in diacritics:\n",
    "    for diacritic in ArabicDiacritics:\n",
    "        if diacritic.value == diacritic_value:\n",
    "            print(f\"Extracted Diacritic: {diacritic.name}\")\n",
    "\n",
    "f = FileReader()\n",
    "data = f.open_file(\"train.txt\")\n",
    "P1.clean_data(data, \"clean_data.txt\")\n",
    "\n",
    "data = f.open_file(\"clean_data.txt\")\n",
    "P1.remove_diacritics(data, \"no_diacritics.txt\")\n"
   ]
  },
  {
   "cell_type": "code",
   "execution_count": null,
   "metadata": {},
   "outputs": [],
   "source": []
  }
 ],
 "metadata": {
  "kernelspec": {
   "display_name": "image",
   "language": "python",
   "name": "python3"
  },
  "language_info": {
   "codemirror_mode": {
    "name": "ipython",
    "version": 3
   },
   "file_extension": ".py",
   "mimetype": "text/x-python",
   "name": "python",
   "nbconvert_exporter": "python",
   "pygments_lexer": "ipython3",
   "version": "3.11.5"
  }
 },
 "nbformat": 4,
 "nbformat_minor": 2
}
