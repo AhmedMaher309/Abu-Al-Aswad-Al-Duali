{
 "cells": [
  {
   "cell_type": "code",
   "execution_count": 33,
   "metadata": {},
   "outputs": [],
   "source": [
    "import os\n",
    "import re\n",
    "import numpy as np\n",
    "import pyarabic.araby \n",
    "import nltk\n",
    "from nltk.tokenize import sent_tokenize\n",
    "import tensorflow as tf\n",
    "from keras_preprocessing.sequence import pad_sequences\n",
    "from keras.models import Sequential,load_model\n",
    "from keras.layers import Embedding, LSTM, Dense, SpatialDropout1D\n",
    "from gensim.models import Word2Vec"
   ]
  },
  {
   "cell_type": "markdown",
   "metadata": {},
   "source": [
    "### reading the training dataset"
   ]
  },
  {
   "cell_type": "code",
   "execution_count": 34,
   "metadata": {},
   "outputs": [
    {
     "name": "stdout",
     "output_type": "stream",
     "text": [
      "<class 'str'>\n",
      "18515271\n"
     ]
    }
   ],
   "source": [
    "\n",
    "f = open(r\"dataset/train.txt\", \"r\",encoding=\"utf-8\").read()\n",
    "print(type(f))\n",
    "print(len(f))"
   ]
  },
  {
   "cell_type": "markdown",
   "metadata": {},
   "source": [
    "### data cleaning and processing utilities "
   ]
  },
  {
   "cell_type": "code",
   "execution_count": 35,
   "metadata": {},
   "outputs": [],
   "source": [
    "def write_file(file_name, data):\n",
    "    if not os.path.exists(\"dataset\"):\n",
    "        os.makedirs(\"dataset\")\n",
    "    # Combine folder and file path\n",
    "    file_path = os.path.join(\"dataset\", file_name)\n",
    "    \n",
    "    # Write the cleaned data to a new text file\n",
    "    with open(file_path, 'w', encoding='utf-8') as file:\n",
    "        file.write(data)\n",
    "\n",
    "def clean_data(data,output_file):\n",
    "    tokens = araby.tokenize(data, conditions=is_arabicrange)\n",
    "    cleaned_data = u\" \".join(tokens)\n",
    "    write_file(\"cleaned_data.txt\", cleaned_data)\n",
    "\n",
    "\n",
    "def remove_diactrics(data, output_file):\n",
    "    pass\n"
   ]
  },
  {
   "cell_type": "code",
   "execution_count": null,
   "metadata": {},
   "outputs": [],
   "source": []
  }
 ],
 "metadata": {
  "kernelspec": {
   "display_name": "image",
   "language": "python",
   "name": "python3"
  },
  "language_info": {
   "codemirror_mode": {
    "name": "ipython",
    "version": 3
   },
   "file_extension": ".py",
   "mimetype": "text/x-python",
   "name": "python",
   "nbconvert_exporter": "python",
   "pygments_lexer": "ipython3",
   "version": "3.11.5"
  }
 },
 "nbformat": 4,
 "nbformat_minor": 2
}
